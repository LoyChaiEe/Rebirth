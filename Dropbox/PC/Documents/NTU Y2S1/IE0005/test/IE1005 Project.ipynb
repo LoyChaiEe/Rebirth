{
 "cells": [
  {
   "cell_type": "code",
   "execution_count": 11,
   "id": "e114541d",
   "metadata": {},
   "outputs": [],
   "source": [
    "import numpy as np\n",
    "import pandas as pd\n",
    "import seaborn as sb\n",
    "import matplotlib.pyplot as plt\n",
    "sb.set()"
   ]
  },
  {
   "cell_type": "markdown",
   "id": "6cfaba46",
   "metadata": {},
   "source": [
    "<h1> Data variables </h1>\n",
    "\n",
    "<ul>\n",
    "<li>Age | Objective Feature | age | int (days) Linear Regression/Clustering and then see each category data points (convert to years)\n",
    "<li>Height | Objective Feature | height | int (cm) | Linear Regression/Clustering and then see each category data points (maybe not)\n",
    "<li>Weight | Objective Feature | weight | float (kg) | Linear Regression/Clustering and then see each category data points (maybe not)\n",
    "<li>Gender | Objective Feature | gender | categorical code | Correlation-Matrix to determine the probability analysis (split into male and female and then see how many cvd vs non-cvd and see are they similar or there is a correlation)\n",
    "<li>BMI | added feature using height and weight | float | classification tree\n",
    "<li>Systolic blood pressure | Examination Feature | ap_hi | int | classification tree\n",
    "<li>Diastolic blood pressure | Examination Feature | ap_lo | int | classification tree\n",
    "<li>Cholesterol | Examination Feature | cholesterol | 1: normal, 2: above normal, 3: well above normal | clustering and do analysis on it\n",
    "<li>Glucose | Examination Feature | gluc | 1: normal, 2: above normal, 3: well above normal | clustering and do analysis on it\n",
    "<li>Smoking | Subjective Feature | smoke | binary | Correlation-Matrix to determine the probability analysis (split into yes and no and then see how many cvd vs non-cvd and see are they similar or there is a correlation)\n",
    "<li>Alcohol intake | Subjective Feature | alco | binary | Correlation-Matrix to determine the probability analysis (split into yes and no and then see how many cvd vs non-cvd and see are they similar or there is a correlation)\n",
    "<li>Physical activity | Subjective Feature | active | binary | Correlation-Matrix to determine the probability analysis (split into yes and no and then see how many cvd vs non-cvd and see are they similar or there is a correlation)\n",
    "<li>Presence or absence of cardiovascular disease | Target Variable | cardio | binary | Response\n",
    "\n",
    "\n",
    "Binary Logistic Regression can be used\n",
    "\n",
    "//get rid of outliers: -ve blood pressure, short height ie less than 120cm or a percentile, co\n"
   ]
  },
  {
   "cell_type": "markdown",
   "id": "ced2d994",
   "metadata": {},
   "source": [
    "### Cleaning of Data\n",
    "\n",
    "Removing missing values, duplicates\n",
    "\n"
   ]
  },
  {
   "cell_type": "code",
   "execution_count": 33,
   "id": "f5bbb6c9",
   "metadata": {},
   "outputs": [],
   "source": [
    "null_values = ['?', '--', ' ', 'NA', 'N/A', '-']\n",
    "dataSet = pd.read_csv('./cardio_train.csv', delimiter=';', nrows = 70000, na_values = null_values) #delimiter function specifies the boundary between separate, independant regions in plain text or other data stream\n",
    "dataSet.drop(columns=['id'], inplace=True) #No need ID variable"
   ]
  },
  {
   "cell_type": "markdown",
   "id": "f5da2b0a",
   "metadata": {},
   "source": [
    "#### Missing Values:"
   ]
  },
  {
   "cell_type": "code",
   "execution_count": 34,
   "id": "f8696dd7",
   "metadata": {},
   "outputs": [
    {
     "name": "stdout",
     "output_type": "stream",
     "text": [
      "Dataset contains no Null Values\n"
     ]
    }
   ],
   "source": [
    "features_with_null = [x for feature in dataSet.columns if dataSet[feature].isnull().sum()>0] #Check for null values\n",
    "if features_with_null:\n",
    "    print('Features with Null Values {}'.format(features_with_null))\n",
    "else:\n",
    "    print('Dataset contains no Null Values')"
   ]
  },
  {
   "cell_type": "markdown",
   "id": "c521950c",
   "metadata": {},
   "source": [
    "#### Duplicates:\n"
   ]
  },
  {
   "cell_type": "code",
   "execution_count": 35,
   "id": "e0a4d749",
   "metadata": {
    "scrolled": false
   },
   "outputs": [
    {
     "name": "stdout",
     "output_type": "stream",
     "text": [
      "Duplicates Rows in Dataset are : 24\n",
      "Total 69976 datapoints remaining with 12 features\n"
     ]
    }
   ],
   "source": [
    "\n",
    "duplicate_sum = dataSet.duplicated().sum()\n",
    "if duplicate_sum: #check for duplicate\n",
    "    print('Duplicates Rows in Dataset are : {}'.format(duplicate_sum))\n",
    "else:\n",
    "    print('Dataset contains no Duplicate Values')\n",
    "duplicated = dataSet[dataSet.duplicated(keep=False)]\n",
    "dataSet.drop_duplicates(keep = 'first', inplace = True)\n",
    "print('Total {} datapoints remaining with {} features'.format(dataSet.shape[0], dataSet.shape[1]))"
   ]
  },
  {
   "cell_type": "markdown",
   "id": "49110256",
   "metadata": {},
   "source": [
    "### Exploratory Analysis: Presence or absence of cardiovascular disease is Response"
   ]
  },
  {
   "cell_type": "markdown",
   "id": "e9dccbea",
   "metadata": {},
   "source": [
    "##### Age"
   ]
  },
  {
   "cell_type": "code",
   "execution_count": 36,
   "id": "b65172e2",
   "metadata": {},
   "outputs": [
    {
     "data": {
      "text/html": [
       "<div>\n",
       "<style scoped>\n",
       "    .dataframe tbody tr th:only-of-type {\n",
       "        vertical-align: middle;\n",
       "    }\n",
       "\n",
       "    .dataframe tbody tr th {\n",
       "        vertical-align: top;\n",
       "    }\n",
       "\n",
       "    .dataframe thead th {\n",
       "        text-align: right;\n",
       "    }\n",
       "</style>\n",
       "<table border=\"1\" class=\"dataframe\">\n",
       "  <thead>\n",
       "    <tr style=\"text-align: right;\">\n",
       "      <th></th>\n",
       "      <th>age</th>\n",
       "    </tr>\n",
       "  </thead>\n",
       "  <tbody>\n",
       "    <tr>\n",
       "      <th>0</th>\n",
       "      <td>18393</td>\n",
       "    </tr>\n",
       "    <tr>\n",
       "      <th>1</th>\n",
       "      <td>20228</td>\n",
       "    </tr>\n",
       "    <tr>\n",
       "      <th>2</th>\n",
       "      <td>18857</td>\n",
       "    </tr>\n",
       "    <tr>\n",
       "      <th>3</th>\n",
       "      <td>17623</td>\n",
       "    </tr>\n",
       "    <tr>\n",
       "      <th>4</th>\n",
       "      <td>17474</td>\n",
       "    </tr>\n",
       "  </tbody>\n",
       "</table>\n",
       "</div>"
      ],
      "text/plain": [
       "     age\n",
       "0  18393\n",
       "1  20228\n",
       "2  18857\n",
       "3  17623\n",
       "4  17474"
      ]
     },
     "execution_count": 36,
     "metadata": {},
     "output_type": "execute_result"
    }
   ],
   "source": [
    "age = pd.DataFrame(dataSet['age'])\n",
    "age.head()"
   ]
  },
  {
   "cell_type": "markdown",
   "id": "e42ddf1e",
   "metadata": {},
   "source": [
    "##### Weight"
   ]
  },
  {
   "cell_type": "code",
   "execution_count": null,
   "id": "2e130f31",
   "metadata": {},
   "outputs": [],
   "source": []
  },
  {
   "cell_type": "markdown",
   "id": "017256e8",
   "metadata": {},
   "source": [
    "##### Height"
   ]
  },
  {
   "cell_type": "code",
   "execution_count": null,
   "id": "f821a49c",
   "metadata": {},
   "outputs": [],
   "source": []
  },
  {
   "cell_type": "markdown",
   "id": "48437ea5",
   "metadata": {},
   "source": [
    "##### Gender"
   ]
  },
  {
   "cell_type": "code",
   "execution_count": null,
   "id": "95b095d7",
   "metadata": {},
   "outputs": [],
   "source": []
  },
  {
   "cell_type": "markdown",
   "id": "bd050b71",
   "metadata": {},
   "source": [
    "##### Systolic blood pressure"
   ]
  },
  {
   "cell_type": "code",
   "execution_count": null,
   "id": "288af088",
   "metadata": {},
   "outputs": [],
   "source": []
  },
  {
   "cell_type": "markdown",
   "id": "7c157211",
   "metadata": {},
   "source": [
    "##### Diastolic blood pressure"
   ]
  },
  {
   "cell_type": "code",
   "execution_count": null,
   "id": "a09dd181",
   "metadata": {},
   "outputs": [],
   "source": []
  },
  {
   "cell_type": "markdown",
   "id": "f435ffbc",
   "metadata": {},
   "source": [
    "##### Cholesterol"
   ]
  },
  {
   "cell_type": "markdown",
   "id": "55ae4525",
   "metadata": {},
   "source": []
  },
  {
   "cell_type": "markdown",
   "id": "6dc0ba09",
   "metadata": {},
   "source": [
    "##### Glucose"
   ]
  },
  {
   "cell_type": "markdown",
   "id": "8e70716e",
   "metadata": {},
   "source": []
  },
  {
   "cell_type": "markdown",
   "id": "a532c76c",
   "metadata": {},
   "source": [
    "##### Smoking"
   ]
  },
  {
   "cell_type": "code",
   "execution_count": null,
   "id": "820259e5",
   "metadata": {},
   "outputs": [],
   "source": []
  },
  {
   "cell_type": "markdown",
   "id": "9d924656",
   "metadata": {},
   "source": [
    "##### Alcohol intake"
   ]
  },
  {
   "cell_type": "markdown",
   "id": "ea8a89fc",
   "metadata": {},
   "source": []
  },
  {
   "cell_type": "markdown",
   "id": "357fc369",
   "metadata": {},
   "source": [
    "##### Physical activity"
   ]
  },
  {
   "cell_type": "markdown",
   "id": "2d8e9408",
   "metadata": {},
   "source": []
  },
  {
   "cell_type": "markdown",
   "id": "8e448df1",
   "metadata": {},
   "source": [
    "##### BMI (Calculated using height and weight)"
   ]
  },
  {
   "cell_type": "code",
   "execution_count": null,
   "id": "202aee05",
   "metadata": {
    "scrolled": true
   },
   "outputs": [],
   "source": []
  },
  {
   "cell_type": "markdown",
   "id": "c445a16d",
   "metadata": {},
   "source": [
    "##### Pulse pressure (Calculated using Systolic blood pressure and Diastolic blood pressure)"
   ]
  },
  {
   "cell_type": "code",
   "execution_count": null,
   "id": "7db8f52f",
   "metadata": {},
   "outputs": [],
   "source": [
    "\n"
   ]
  },
  {
   "cell_type": "code",
   "execution_count": null,
   "id": "5dfb71f3",
   "metadata": {},
   "outputs": [],
   "source": []
  },
  {
   "cell_type": "code",
   "execution_count": null,
   "id": "1da8bb97",
   "metadata": {},
   "outputs": [],
   "source": []
  },
  {
   "cell_type": "code",
   "execution_count": null,
   "id": "8b12cb33",
   "metadata": {},
   "outputs": [],
   "source": []
  }
 ],
 "metadata": {
  "kernelspec": {
   "display_name": "Python 3.8.8 ('base')",
   "language": "python",
   "name": "python3"
  },
  "language_info": {
   "codemirror_mode": {
    "name": "ipython",
    "version": 3
   },
   "file_extension": ".py",
   "mimetype": "text/x-python",
   "name": "python",
   "nbconvert_exporter": "python",
   "pygments_lexer": "ipython3",
   "version": "3.8.8"
  },
  "vscode": {
   "interpreter": {
    "hash": "d9f382f131c70b331d0a20183e9f73cdd63516857511dba1c9cb865e878ce176"
   }
  }
 },
 "nbformat": 4,
 "nbformat_minor": 5
}
